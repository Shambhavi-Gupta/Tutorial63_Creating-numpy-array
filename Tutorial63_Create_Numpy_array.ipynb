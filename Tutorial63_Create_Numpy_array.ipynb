{
  "nbformat": 4,
  "nbformat_minor": 0,
  "metadata": {
    "colab": {
      "name": "Tutorial63_Create-Numpy-array.ipynb",
      "provenance": [],
      "authorship_tag": "ABX9TyPe96D/z70RGhZLCzNTE+89",
      "include_colab_link": true
    },
    "kernelspec": {
      "name": "python3",
      "display_name": "Python 3"
    }
  },
  "cells": [
    {
      "cell_type": "markdown",
      "metadata": {
        "id": "view-in-github",
        "colab_type": "text"
      },
      "source": [
        "<a href=\"https://colab.research.google.com/github/Shambhavi-Gupta/Tutorial63_Creating-numpy-array/blob/main/Tutorial63_Create_Numpy_array.ipynb\" target=\"_parent\"><img src=\"https://colab.research.google.com/assets/colab-badge.svg\" alt=\"Open In Colab\"/></a>"
      ]
    },
    {
      "cell_type": "code",
      "metadata": {
        "id": "9Nx2-ikv2xj_"
      },
      "source": [
        "import numpy as np\r\n",
        "#help(np.array)\r\n",
        "# b = np.array([1,2,3,4])\r\n",
        "# print(b)\r\n",
        "# b = np.array([[1,2],[3,4]])\r\n",
        "# print(b)\r\n",
        "# c = np.array([1,2,3],\"complex\")\r\n",
        "# print(c)\r\n",
        "d = np.array((1,2,3))\r\n",
        "print(d)"
      ],
      "execution_count": null,
      "outputs": []
    }
  ]
}